{
 "cells": [
  {
   "cell_type": "code",
   "execution_count": 5,
   "id": "4fec691b",
   "metadata": {},
   "outputs": [],
   "source": [
    "from tkinter import *\n",
    "from tkinter import ttk\n",
    "import pandas as pd"
   ]
  },
  {
   "cell_type": "code",
   "execution_count": null,
   "id": "89be6fff",
   "metadata": {},
   "outputs": [],
   "source": [
    "# https://www.plus2net.com/python/tkinter-treeview-insert.php"
   ]
  },
  {
   "cell_type": "code",
   "execution_count": 6,
   "id": "25ed9762",
   "metadata": {},
   "outputs": [
    {
     "data": {
      "text/html": [
       "<div>\n",
       "<style scoped>\n",
       "    .dataframe tbody tr th:only-of-type {\n",
       "        vertical-align: middle;\n",
       "    }\n",
       "\n",
       "    .dataframe tbody tr th {\n",
       "        vertical-align: top;\n",
       "    }\n",
       "\n",
       "    .dataframe thead th {\n",
       "        text-align: right;\n",
       "    }\n",
       "</style>\n",
       "<table border=\"1\" class=\"dataframe\">\n",
       "  <thead>\n",
       "    <tr style=\"text-align: right;\">\n",
       "      <th></th>\n",
       "      <th>date</th>\n",
       "      <th>time</th>\n",
       "      <th>start</th>\n",
       "      <th>end</th>\n",
       "    </tr>\n",
       "  </thead>\n",
       "  <tbody>\n",
       "    <tr>\n",
       "      <th>0.0</th>\n",
       "      <td>06/12/22 12:00</td>\n",
       "      <td>10.00</td>\n",
       "      <td>2022-12-06 12:00</td>\n",
       "      <td>2022-12-06 12:10</td>\n",
       "    </tr>\n",
       "    <tr>\n",
       "      <th>1.0</th>\n",
       "      <td>06/12/22 15:00</td>\n",
       "      <td>20.00</td>\n",
       "      <td>2022-12-06 15:00</td>\n",
       "      <td>2022-12-06 15:20</td>\n",
       "    </tr>\n",
       "    <tr>\n",
       "      <th>NaN</th>\n",
       "      <td>30/12/22 18:00</td>\n",
       "      <td>1.25</td>\n",
       "      <td>2022-12-30 18:55</td>\n",
       "      <td>2022-12-30 18:57</td>\n",
       "    </tr>\n",
       "    <tr>\n",
       "      <th>NaN</th>\n",
       "      <td>30/12/22 19:00</td>\n",
       "      <td>10.00</td>\n",
       "      <td>2022-12-30 19:00</td>\n",
       "      <td>2022-12-30 19:10</td>\n",
       "    </tr>\n",
       "    <tr>\n",
       "      <th>NaN</th>\n",
       "      <td>30/12/22 19:00</td>\n",
       "      <td>10.00</td>\n",
       "      <td>2022-12-30 19:03</td>\n",
       "      <td>2022-12-30 19:13</td>\n",
       "    </tr>\n",
       "  </tbody>\n",
       "</table>\n",
       "</div>"
      ],
      "text/plain": [
       "               date   time             start               end\n",
       "0.0  06/12/22 12:00  10.00  2022-12-06 12:00  2022-12-06 12:10\n",
       "1.0  06/12/22 15:00  20.00  2022-12-06 15:00  2022-12-06 15:20\n",
       "NaN  30/12/22 18:00   1.25  2022-12-30 18:55  2022-12-30 18:57\n",
       "NaN  30/12/22 19:00  10.00  2022-12-30 19:00  2022-12-30 19:10\n",
       "NaN  30/12/22 19:00  10.00  2022-12-30 19:03  2022-12-30 19:13"
      ]
     },
     "execution_count": 6,
     "metadata": {},
     "output_type": "execute_result"
    }
   ],
   "source": [
    "df = pd.read_csv('timedata.csv')\n",
    "df.head()"
   ]
  },
  {
   "cell_type": "code",
   "execution_count": 1,
   "id": "311bfccd",
   "metadata": {},
   "outputs": [],
   "source": [
    "from tkinter import ttk\n",
    "import tkinter as tk\n",
    "# Creating tkinter my_w\n",
    "my_w = tk.Tk()\n",
    "my_w.geometry(\"260x280\") \n",
    "my_w.title(\"www.plus2net.com\")  \n",
    "# Using treeview widget\n",
    "trv = ttk.Treeview(my_w, selectmode ='browse')\n",
    "trv.grid(row=1,column=1,padx=30,pady=20)\n",
    "\n",
    "# column identifiers \n",
    "trv[\"columns\"] = (\"1\", \"2\")\n",
    "# Defining headings, other option is tree\n",
    "trv['show'] = 'tree' \n",
    "# width of columns and alignment \n",
    "trv.column(\"#0\", width = 80, anchor ='c')\n",
    "trv.column(\"1\", width = 10, anchor ='c')\n",
    "trv.column(\"2\", width = 100, anchor ='c')\n",
    "# Headings  \n",
    "# respective columns\n",
    "trv.heading(\"#0\", text =\"Label\",anchor='c')\n",
    "trv.heading(\"1\", text =\"id\")\n",
    "trv.heading(\"2\", text =\"Name\",anchor='c')\n",
    "\n",
    "trv.insert(\"\",'end',iid=1,text='First',values=(1,'n1-Alex'))\n",
    "trv.insert(\"\",'end',iid=2,text='second',values=(2,'n2-Ravi'))\n",
    "trv.insert(\"\",'end',iid=3,text='third',values=(3,'n3-Ronn'))\n",
    "\n",
    "my_w.mainloop()"
   ]
  },
  {
   "cell_type": "code",
   "execution_count": 13,
   "id": "1766a6d8",
   "metadata": {},
   "outputs": [],
   "source": [
    "from tkinter import ttk\n",
    "import tkinter as tk\n",
    "from tkinter import *\n",
    "\n",
    "\n",
    "win = tk.Tk()\n",
    "win.title('Table')\n",
    "\n",
    "frm = Frame(win)\n",
    "frm.pack(side=LEFT, padx=20)\n",
    "\n",
    "\n",
    "trv = ttk.Treeview(frm, columns=(1,2), show='headings', height='5')\n",
    "trv.pack()\n",
    "\n",
    "trv.heading(1, text='date')\n",
    "trv.heading(2, text='time')\n",
    "\n",
    "for ind, row in df.iterrows():\n",
    "    trv.insert('', 0, values=(row['date'], row['time']))\n",
    "\n",
    "win.mainloop()"
   ]
  },
  {
   "cell_type": "code",
   "execution_count": null,
   "id": "68f1a8f4",
   "metadata": {},
   "outputs": [],
   "source": []
  },
  {
   "cell_type": "code",
   "execution_count": null,
   "id": "34f24e83",
   "metadata": {},
   "outputs": [],
   "source": []
  },
  {
   "cell_type": "code",
   "execution_count": null,
   "id": "00e226c1",
   "metadata": {},
   "outputs": [],
   "source": []
  }
 ],
 "metadata": {
  "kernelspec": {
   "display_name": "base",
   "language": "python",
   "name": "python3"
  },
  "language_info": {
   "codemirror_mode": {
    "name": "ipython",
    "version": 3
   },
   "file_extension": ".py",
   "mimetype": "text/x-python",
   "name": "python",
   "nbconvert_exporter": "python",
   "pygments_lexer": "ipython3",
   "version": "3.8.8"
  },
  "vscode": {
   "interpreter": {
    "hash": "ca5072435c1f7a284e46133f27cdb912bd227272f9f37352ee2f2f7a84aad3b8"
   }
  }
 },
 "nbformat": 4,
 "nbformat_minor": 5
}
