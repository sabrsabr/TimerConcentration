{
 "cells": [
  {
   "cell_type": "code",
   "execution_count": null,
   "id": "502fb217",
   "metadata": {},
   "outputs": [],
   "source": [
    "from tkinter import *\n",
    "import time\n",
    "\n",
    "class Application(Frame):\n",
    "    def __init__(self,master):\n",
    "        super(Application,self).__init__(master)\n",
    "        self.pack()\n",
    "        self.createWidgets()\n",
    "        self._alarm_id = None\n",
    "\n",
    "    def createWidgets(self):\n",
    "\n",
    "        self.labelvariable = StringVar()\n",
    "        self.labelvariable.set(\"00:00\")\n",
    "\n",
    "        self.thelabel = Label(self,textvariable = self.labelvariable,font=('Helvetica',50))\n",
    "        self.thelabel.pack(side=TOP)\n",
    "\n",
    "        self.Button_5min = Button(self,text=\"5 sec\", bd='5', height=2, width=6, command=self.run5sec)\n",
    "        self.Button_5min.pack(side=LEFT)\n",
    "\n",
    "    def run5sec(self):\n",
    "        if self._alarm_id is not None:\n",
    "            self.master.after_cancel(self._alarm_id)\n",
    "        self.countdown(5)    \n",
    "\n",
    "    def countdown(self, remaining=None):\n",
    "        if remaining is not None:\n",
    "            self.remaining = remaining\n",
    "#         self.label_countdown.configure(text=self.remaining)\n",
    "        mins,secs = divmod(self.remaining, 60)\n",
    "        timeformat = \"{0:02d}:{1:02d}\".format(mins, secs)\n",
    "        app.labelvariable.set(timeformat)\n",
    "        self.remaining = self.remaining - 1\n",
    "        if self.remaining == -1:\n",
    "            app.labelvariable.set('Done')\n",
    "            self.remaining = None\n",
    "        self.after_id = self.after(1000,self.countdown)\n",
    "        \n",
    "#     def countdown(self, timeInSeconds):\n",
    "#         mins,secs = divmod(timeInSeconds, 60)\n",
    "#         timeformat = \"{0:02d}:{1:02d}\".format(mins, secs)\n",
    "#         app.labelvariable.set(timeformat)\n",
    "#         self._alarm_id = self.master.after(1000, self.countdown, timeInSeconds-1)\n",
    "\n",
    "if __name__ == '__main__':\n",
    "    root = Tk()\n",
    "    root.title(\"Timer\")\n",
    "    app = Application(root)\n",
    "    root.mainloop()"
   ]
  }
 ],
 "metadata": {
  "kernelspec": {
   "display_name": "Python 3",
   "language": "python",
   "name": "python3"
  },
  "language_info": {
   "codemirror_mode": {
    "name": "ipython",
    "version": 3
   },
   "file_extension": ".py",
   "mimetype": "text/x-python",
   "name": "python",
   "nbconvert_exporter": "python",
   "pygments_lexer": "ipython3",
   "version": "3.8.8"
  }
 },
 "nbformat": 4,
 "nbformat_minor": 5
}
