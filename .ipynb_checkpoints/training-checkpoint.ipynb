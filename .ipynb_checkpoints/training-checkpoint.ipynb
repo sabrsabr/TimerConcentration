{
 "cells": [
  {
   "cell_type": "code",
   "execution_count": null,
   "id": "4fec691b",
   "metadata": {},
   "outputs": [],
   "source": [
    "from tkinter import *\n",
    "from tkinter import ttk\n",
    "import pandas as pd"
   ]
  },
  {
   "cell_type": "code",
   "execution_count": null,
   "id": "89be6fff",
   "metadata": {},
   "outputs": [],
   "source": [
    "# https://www.plus2net.com/python/tkinter-treeview-insert.php"
   ]
  },
  {
   "cell_type": "code",
   "execution_count": null,
   "id": "25ed9762",
   "metadata": {},
   "outputs": [],
   "source": [
    "df = pd.read_csv('timedata.csv')\n",
    "df.head()"
   ]
  },
  {
   "cell_type": "code",
   "execution_count": null,
   "id": "311bfccd",
   "metadata": {},
   "outputs": [],
   "source": [
    "from tkinter import ttk\n",
    "import tkinter as tk\n",
    "# Creating tkinter my_w\n",
    "my_w = tk.Tk()\n",
    "my_w.geometry(\"260x280\") \n",
    "my_w.title(\"www.plus2net.com\")  \n",
    "# Using treeview widget\n",
    "trv = ttk.Treeview(my_w, selectmode ='browse')\n",
    "trv.grid(row=1,column=1,padx=30,pady=20)\n",
    "\n",
    "# column identifiers \n",
    "trv[\"columns\"] = (\"1\", \"2\")\n",
    "# Defining headings, other option is tree\n",
    "trv['show'] = 'tree' \n",
    "# width of columns and alignment \n",
    "trv.column(\"#0\", width = 80, anchor ='c')\n",
    "trv.column(\"1\", width = 10, anchor ='c')\n",
    "trv.column(\"2\", width = 100, anchor ='c')\n",
    "# Headings  \n",
    "# respective columns\n",
    "trv.heading(\"#0\", text =\"Label\",anchor='c')\n",
    "trv.heading(\"1\", text =\"id\")\n",
    "trv.heading(\"2\", text =\"Name\",anchor='c')\n",
    "\n",
    "trv.insert(\"\",'end',iid=1,text='First',values=(1,'n1-Alex'))\n",
    "trv.insert(\"\",'end',iid=2,text='second',values=(2,'n2-Ravi'))\n",
    "trv.insert(\"\",'end',iid=3,text='third',values=(3,'n3-Ronn'))\n",
    "\n",
    "my_w.mainloop()"
   ]
  },
  {
   "cell_type": "code",
   "execution_count": 5,
   "id": "1766a6d8",
   "metadata": {},
   "outputs": [],
   "source": [
    "from tkinter import ttk\n",
    "import tkinter as tk\n",
    "from tkinter import *\n",
    "\n",
    "win = tk.Tk()\n",
    "win.title('Table')\n",
    "\n",
    "frm = Frame(win)\n",
    "frm.pack(side=LEFT, padx=20)\n",
    "\n",
    "\n",
    "trv = ttk.Treeview(frm, columns=(1,2,3), show='headings', height='5')\n",
    "trv.pack()\n",
    "\n",
    "trv.heading(1, text='Name')\n",
    "trv.heading(2, text='Family')\n",
    "trv.heading(3, text='Age')\n",
    "\n",
    "win.mainloop()"
   ]
  },
  {
   "cell_type": "code",
   "execution_count": null,
   "id": "68f1a8f4",
   "metadata": {},
   "outputs": [],
   "source": []
  },
  {
   "cell_type": "code",
   "execution_count": null,
   "id": "34f24e83",
   "metadata": {},
   "outputs": [],
   "source": []
  },
  {
   "cell_type": "code",
   "execution_count": null,
   "id": "00e226c1",
   "metadata": {},
   "outputs": [],
   "source": []
  }
 ],
 "metadata": {
  "kernelspec": {
   "display_name": "Python 3",
   "language": "python",
   "name": "python3"
  },
  "language_info": {
   "codemirror_mode": {
    "name": "ipython",
    "version": 3
   },
   "file_extension": ".py",
   "mimetype": "text/x-python",
   "name": "python",
   "nbconvert_exporter": "python",
   "pygments_lexer": "ipython3",
   "version": "3.8.8"
  }
 },
 "nbformat": 4,
 "nbformat_minor": 5
}
