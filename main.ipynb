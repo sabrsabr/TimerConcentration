{
 "cells": [
  {
   "cell_type": "code",
   "execution_count": 12,
   "id": "4218bcc5",
   "metadata": {},
   "outputs": [],
   "source": [
    "import pandas as pd\n",
    "from datetime import datetime"
   ]
  },
  {
   "cell_type": "code",
   "execution_count": 78,
   "id": "92269847",
   "metadata": {},
   "outputs": [],
   "source": [
    "# пересоздать таблицу, чтобы не засорять ее пока работаю над программой\n",
    "first_row = {\"start\":[datetime(2022, 12, 6, 12).strftime('%Y-%m-%d %H:%M'), datetime(2022, 12, 6, 15).strftime('%Y-%m-%d %H:%M')],\\\n",
    "             \"end\":[datetime(2022, 12, 6, 12, 10).strftime('%Y-%m-%d %H:%M'), datetime(2022, 12, 6, 15, 20).strftime('%Y-%m-%d %H:%M')]}\n",
    "df = pd.DataFrame(first_row)\n",
    "df.to_csv('timedata.csv', index_label=False)"
   ]
  },
  {
   "cell_type": "code",
   "execution_count": 81,
   "id": "083a6be2",
   "metadata": {},
   "outputs": [
    {
     "data": {
      "text/html": [
       "<div>\n",
       "<style scoped>\n",
       "    .dataframe tbody tr th:only-of-type {\n",
       "        vertical-align: middle;\n",
       "    }\n",
       "\n",
       "    .dataframe tbody tr th {\n",
       "        vertical-align: top;\n",
       "    }\n",
       "\n",
       "    .dataframe thead th {\n",
       "        text-align: right;\n",
       "    }\n",
       "</style>\n",
       "<table border=\"1\" class=\"dataframe\">\n",
       "  <thead>\n",
       "    <tr style=\"text-align: right;\">\n",
       "      <th></th>\n",
       "      <th>start</th>\n",
       "      <th>end</th>\n",
       "    </tr>\n",
       "  </thead>\n",
       "  <tbody>\n",
       "    <tr>\n",
       "      <th>0.0</th>\n",
       "      <td>2022-12-06 12:00</td>\n",
       "      <td>2022-12-06 12:10</td>\n",
       "    </tr>\n",
       "    <tr>\n",
       "      <th>1.0</th>\n",
       "      <td>2022-12-06 15:00</td>\n",
       "      <td>2022-12-06 15:20</td>\n",
       "    </tr>\n",
       "    <tr>\n",
       "      <th>NaN</th>\n",
       "      <td>2022-12-29 21:13</td>\n",
       "      <td>2022-12-29 21:13</td>\n",
       "    </tr>\n",
       "  </tbody>\n",
       "</table>\n",
       "</div>"
      ],
      "text/plain": [
       "                start               end\n",
       "0.0  2022-12-06 12:00  2022-12-06 12:10\n",
       "1.0  2022-12-06 15:00  2022-12-06 15:20\n",
       "NaN  2022-12-29 21:13  2022-12-29 21:13"
      ]
     },
     "execution_count": 81,
     "metadata": {},
     "output_type": "execute_result"
    }
   ],
   "source": [
    "df = pd.read_csv('timedata.csv')\n",
    "df"
   ]
  },
  {
   "cell_type": "code",
   "execution_count": 52,
   "id": "46bf9bab",
   "metadata": {},
   "outputs": [],
   "source": [
    "sss = datetime.now()\n",
    "eee = datetime.now()\n",
    "\n",
    "sss=sss.strftime('%Y-%m-%d %H:%M')\n",
    "eee=eee.strftime('%Y-%m-%d %H:%M')"
   ]
  },
  {
   "cell_type": "code",
   "execution_count": 80,
   "id": "37d05963",
   "metadata": {
    "scrolled": true
   },
   "outputs": [],
   "source": [
    "import csv\n",
    "\n",
    "with open('timedata.csv', 'a') as file:\n",
    "    writer = csv.DictWriter(file, ['','start', 'end'])\n",
    "    writer.writerow({'start':sss, 'end':eee})"
   ]
  },
  {
   "cell_type": "code",
   "execution_count": null,
   "id": "70ec0351",
   "metadata": {},
   "outputs": [],
   "source": []
  },
  {
   "cell_type": "code",
   "execution_count": 85,
   "id": "039df36e",
   "metadata": {},
   "outputs": [
    {
     "name": "stderr",
     "output_type": "stream",
     "text": [
      "Exception in Tkinter callback\n",
      "Traceback (most recent call last):\n",
      "  File \"C:\\Users\\jurum\\anaconda3\\lib\\tkinter\\__init__.py\", line 1892, in __call__\n",
      "    return self.func(*args)\n",
      "  File \"C:\\Users\\jurum\\anaconda3\\lib\\tkinter\\__init__.py\", line 814, in callit\n",
      "    func(*args)\n",
      "  File \"<ipython-input-85-f1fa6097486b>\", line 40, in countdown\n",
      "    mins,secs = divmod(self.remaining, 60)\n",
      "TypeError: unsupported operand type(s) for divmod(): 'NoneType' and 'int'\n"
     ]
    }
   ],
   "source": [
    "from tkinter import *\n",
    "import time\n",
    "from datetime import datetime\n",
    "import csv\n",
    "\n",
    "class Application(Frame):\n",
    "    def __init__(self,master):\n",
    "        super(Application,self).__init__(master)\n",
    "        self.pack()\n",
    "        self.createWidgets()\n",
    "        self._alarm_id = None\n",
    "        self.df = pd.read_csv('timedata.csv')\n",
    "\n",
    "    def createWidgets(self):\n",
    "\n",
    "        self.labelvariable = StringVar()\n",
    "        self.labelvariable.set(\"00:00\")\n",
    "\n",
    "        self.thelabel = Label(self,textvariable = self.labelvariable,font=('Helvetica',50))\n",
    "        self.thelabel.pack(side=TOP)\n",
    "\n",
    "        self.Button_5min = Button(self,text=\"5 sec\", bd='5', height=2, width=6, command=self.run5sec)\n",
    "        self.Button_5min.pack(side=LEFT)\n",
    "\n",
    "    def run5sec(self):\n",
    "        if self._alarm_id is not None:\n",
    "            self.master.after_cancel(self._alarm_id)\n",
    "#         start = datetime.now()\n",
    "        self.countdown(5)  \n",
    "#         end = datetime.now()\n",
    "#         row = pd.Series([start, end], index=[\"start\", \"end\"])\n",
    "#         with open('timedata.csv') as file:\n",
    "#             dictwriter = csv.DictWriter(file)\n",
    "#             dictwriter.writerow()\n",
    "\n",
    "    def countdown(self, remaining=None):\n",
    "        if remaining is not None:\n",
    "            self.remaining = remaining\n",
    "#         self.label_countdown.configure(text=self.remaining)\n",
    "        mins,secs = divmod(self.remaining, 60)\n",
    "        timeformat = \"{0:02d}:{1:02d}\".format(mins, secs)\n",
    "        app.labelvariable.set(timeformat)\n",
    "        self.remaining = self.remaining - 1\n",
    "        if self.remaining == -1:\n",
    "            app.labelvariable.set('Done')\n",
    "            self.remaining = None\n",
    "        self.after_id = self.after(1000,self.countdown)\n",
    "        \n",
    "#     def countdown(self, timeInSeconds):\n",
    "#         mins,secs = divmod(timeInSeconds, 60)\n",
    "#         timeformat = \"{0:02d}:{1:02d}\".format(mins, secs)\n",
    "#         app.labelvariable.set(timeformat)\n",
    "#         self._alarm_id = self.master.after(1000, self.countdown, timeInSeconds-1)\n",
    "\n",
    "if __name__ == '__main__':\n",
    "    root = Tk()\n",
    "    root.title(\"Timer\")\n",
    "    app = Application(root)\n",
    "    root.mainloop()"
   ]
  },
  {
   "cell_type": "code",
   "execution_count": null,
   "id": "c1e75686",
   "metadata": {},
   "outputs": [],
   "source": []
  }
 ],
 "metadata": {
  "kernelspec": {
   "display_name": "Python 3",
   "language": "python",
   "name": "python3"
  },
  "language_info": {
   "codemirror_mode": {
    "name": "ipython",
    "version": 3
   },
   "file_extension": ".py",
   "mimetype": "text/x-python",
   "name": "python",
   "nbconvert_exporter": "python",
   "pygments_lexer": "ipython3",
   "version": "3.8.8"
  }
 },
 "nbformat": 4,
 "nbformat_minor": 5
}
