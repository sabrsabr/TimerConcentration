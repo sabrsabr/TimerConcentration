{
 "cells": [
  {
   "cell_type": "code",
   "execution_count": 1,
   "id": "4218bcc5",
   "metadata": {},
   "outputs": [],
   "source": [
    "import pandas as pd\n",
    "from datetime import datetime"
   ]
  },
  {
   "cell_type": "code",
   "execution_count": 29,
   "id": "92269847",
   "metadata": {},
   "outputs": [],
   "source": [
    "# пересоздать таблицу, чтобы не засорять ее пока работаю над программой\n",
    "first_row = {\"date\":[datetime(2022, 12, 6, 12).strftime('%d/%m/%y %H:00'), datetime(2022, 12, 6, 15).strftime('%d/%m/%y %H:00')],\n",
    "             \"time\":[10, 20],\n",
    "             \"start\":[datetime(2022, 12, 6, 12).strftime('%Y-%m-%d %H:%M'), datetime(2022, 12, 6, 15).strftime('%Y-%m-%d %H:%M')],\\\n",
    "             \"end\":[datetime(2022, 12, 6, 12, 10).strftime('%Y-%m-%d %H:%M'), datetime(2022, 12, 6, 15, 20).strftime('%Y-%m-%d %H:%M')]}\n",
    "df = pd.DataFrame(first_row)\n",
    "df.to_csv('timedata.csv', index_label=False)"
   ]
  },
  {
   "cell_type": "code",
   "execution_count": 2,
   "id": "083a6be2",
   "metadata": {},
   "outputs": [
    {
     "data": {
      "text/html": [
       "<div>\n",
       "<style scoped>\n",
       "    .dataframe tbody tr th:only-of-type {\n",
       "        vertical-align: middle;\n",
       "    }\n",
       "\n",
       "    .dataframe tbody tr th {\n",
       "        vertical-align: top;\n",
       "    }\n",
       "\n",
       "    .dataframe thead th {\n",
       "        text-align: right;\n",
       "    }\n",
       "</style>\n",
       "<table border=\"1\" class=\"dataframe\">\n",
       "  <thead>\n",
       "    <tr style=\"text-align: right;\">\n",
       "      <th></th>\n",
       "      <th>date</th>\n",
       "      <th>time</th>\n",
       "      <th>start</th>\n",
       "      <th>end</th>\n",
       "    </tr>\n",
       "  </thead>\n",
       "  <tbody>\n",
       "    <tr>\n",
       "      <th>0</th>\n",
       "      <td>06/12/22 12:00</td>\n",
       "      <td>10</td>\n",
       "      <td>2022-12-06 12:00</td>\n",
       "      <td>2022-12-06 12:10</td>\n",
       "    </tr>\n",
       "    <tr>\n",
       "      <th>1</th>\n",
       "      <td>06/12/22 15:00</td>\n",
       "      <td>20</td>\n",
       "      <td>2022-12-06 15:00</td>\n",
       "      <td>2022-12-06 15:20</td>\n",
       "    </tr>\n",
       "  </tbody>\n",
       "</table>\n",
       "</div>"
      ],
      "text/plain": [
       "             date  time             start               end\n",
       "0  06/12/22 12:00    10  2022-12-06 12:00  2022-12-06 12:10\n",
       "1  06/12/22 15:00    20  2022-12-06 15:00  2022-12-06 15:20"
      ]
     },
     "execution_count": 2,
     "metadata": {},
     "output_type": "execute_result"
    }
   ],
   "source": [
    "df = pd.read_csv('timedata.csv')\n",
    "df"
   ]
  },
  {
   "cell_type": "code",
   "execution_count": 18,
   "id": "3404711d",
   "metadata": {},
   "outputs": [
    {
     "data": {
      "text/plain": [
       "datetime.datetime(2022, 12, 30, 18, 0, 55, 918832)"
      ]
     },
     "execution_count": 18,
     "metadata": {},
     "output_type": "execute_result"
    }
   ],
   "source": [
    "aaa=datetime(2022, 12, 30, 18, 0, 55, 918832)\n",
    "aaa"
   ]
  },
  {
   "cell_type": "code",
   "execution_count": 19,
   "id": "78641ea8",
   "metadata": {},
   "outputs": [
    {
     "data": {
      "text/plain": [
       "datetime.datetime(2022, 12, 30, 18, 40, 55, 918832)"
      ]
     },
     "execution_count": 19,
     "metadata": {},
     "output_type": "execute_result"
    }
   ],
   "source": [
    "bbb = datetime(2022, 12, 30, 18, 40, 55, 918832)\n",
    "bbb"
   ]
  },
  {
   "cell_type": "code",
   "execution_count": 20,
   "id": "765a5224",
   "metadata": {},
   "outputs": [
    {
     "name": "stdout",
     "output_type": "stream",
     "text": [
      "40\n"
     ]
    }
   ],
   "source": [
    "from datetime import timedelta\n",
    "ccc=bbb-aaa\n",
    "ccc=int(ccc/timedelta(minutes=1))\n",
    "print(ccc)"
   ]
  },
  {
   "cell_type": "code",
   "execution_count": null,
   "id": "c8afb370",
   "metadata": {},
   "outputs": [],
   "source": []
  },
  {
   "cell_type": "code",
   "execution_count": 10,
   "id": "039df36e",
   "metadata": {},
   "outputs": [
    {
     "name": "stdout",
     "output_type": "stream",
     "text": [
      "2022-12-30 19:03:37.991898\n",
      "2022-12-30 19:13:37.991898\n"
     ]
    }
   ],
   "source": [
    "from tkinter import *\n",
    "import time\n",
    "from datetime import datetime, timedelta\n",
    "import csv\n",
    "\n",
    "class Application(Frame):\n",
    "    def __init__(self,master):\n",
    "        super(Application,self).__init__(master)\n",
    "        self.pack()\n",
    "        self.createWidgets()\n",
    "        self._alarm_id = None\n",
    "\n",
    "    def createWidgets(self):\n",
    "\n",
    "        self.labelvariable = StringVar()\n",
    "        self.labelvariable.set(\"00:00\")\n",
    "\n",
    "        self.thelabel = Label(self,textvariable = self.labelvariable,font=('Helvetica',50))\n",
    "        self.thelabel.pack(side=TOP)\n",
    "\n",
    "        self.Button_5min = Button(self,text=\"5 sec\", bd='5', height=2, width=6, command=self.run5sec)\n",
    "        self.Button_5min.pack(side=LEFT)\n",
    "\n",
    "        self.Button_10min = Button(self,text=\"10 min\", bd='5', height=2, width=6, command=self.run10min)\n",
    "        self.Button_10min.pack(side=LEFT)\n",
    "        \n",
    "        self.Button_10min = Button(self,text=\"15 min\", bd='5', height=2, width=6, command=self.run15min)\n",
    "        self.Button_10min.pack(side=LEFT)\n",
    "        \n",
    "        self.Button_10min = Button(self,text=\"20 min\", bd='5', height=2, width=6, command=self.run20min)\n",
    "        self.Button_10min.pack(side=LEFT)\n",
    "        \n",
    "        self.Button_10min = Button(self,text=\"30 min\", bd='5', height=2, width=6, command=self.run30min)\n",
    "        self.Button_10min.pack(side=LEFT)\n",
    "        \n",
    "    def run5sec(self):\n",
    "        if self._alarm_id is not None:\n",
    "            self.master.after_cancel(self._alarm_id)\n",
    "        start = datetime.now()\n",
    "        print(start)\n",
    "        self.countdown(5)  \n",
    "        end = start + timedelta(seconds=5)\n",
    "        print(end)\n",
    "        delta = (end-start)/timedelta(minutes=1)\n",
    "        start_string = start.strftime('%Y-%m-%d %H:%M')\n",
    "        end_string = end.strftime('%Y-%m-%d %H:%M')\n",
    "        date = start.strftime('%d/%m/%y %H:00')\n",
    "        with open('timedata.csv', 'a') as file:\n",
    "            writer = csv.DictWriter(file, ['','date','time','start', 'end'])\n",
    "            writer.writerow({'date':date, 'time':delta, 'start':start_string, 'end':end_string})\n",
    "            \n",
    "    def run10min(self):\n",
    "        if self._alarm_id is not None:\n",
    "            self.master.after_cancel(self._alarm_id)\n",
    "        start = datetime.now()\n",
    "        print(start)\n",
    "        self.countdown(600)  \n",
    "        end = start + timedelta(seconds=600)\n",
    "        print(end)\n",
    "        delta = (end-start)/timedelta(minutes=1)\n",
    "        start_string = start.strftime('%Y-%m-%d %H:%M')\n",
    "        end_string = end.strftime('%Y-%m-%d %H:%M')\n",
    "        date = start.strftime('%d/%m/%y %H:00')\n",
    "        with open('timedata.csv', 'a') as file:\n",
    "            writer = csv.DictWriter(file, ['','date','time','start', 'end'])\n",
    "            writer.writerow({'date':date, 'time':delta, 'start':start_string, 'end':end_string})\n",
    "\n",
    "    def run15min(self):\n",
    "        if self._alarm_id is not None:\n",
    "            self.master.after_cancel(self._alarm_id)\n",
    "        start = datetime.now()\n",
    "        print(start)\n",
    "        self.countdown(900)  \n",
    "        end = start + timedelta(seconds=900)\n",
    "        print(end)\n",
    "        delta = (end-start)/timedelta(minutes=1)\n",
    "        start_string = start.strftime('%Y-%m-%d %H:%M')\n",
    "        end_string = end.strftime('%Y-%m-%d %H:%M')\n",
    "        date = start.strftime('%d/%m/%y %H:00')\n",
    "        with open('timedata.csv', 'a') as file:\n",
    "            writer = csv.DictWriter(file, ['','date','time','start', 'end'])\n",
    "            writer.writerow({'date':date, 'time':delta, 'start':start_string, 'end':end_string})\n",
    "\n",
    "    def run20min(self):\n",
    "        if self._alarm_id is not None:\n",
    "            self.master.after_cancel(self._alarm_id)\n",
    "        start = datetime.now()\n",
    "        print(start)\n",
    "        self.countdown(1200)  \n",
    "        end = start + timedelta(seconds=1200)\n",
    "        print(end)\n",
    "        delta = (end-start)/timedelta(minutes=1)\n",
    "        start_string = start.strftime('%Y-%m-%d %H:%M')\n",
    "        end_string = end.strftime('%Y-%m-%d %H:%M')\n",
    "        date = start.strftime('%d/%m/%y %H:00')\n",
    "        with open('timedata.csv', 'a') as file:\n",
    "            writer = csv.DictWriter(file, ['','date','time','start', 'end'])\n",
    "            writer.writerow({'date':date, 'time':delta, 'start':start_string, 'end':end_string})\n",
    "            \n",
    "    def run30min(self):\n",
    "        if self._alarm_id is not None:\n",
    "            self.master.after_cancel(self._alarm_id)\n",
    "        start = datetime.now()\n",
    "        print(start)\n",
    "        self.countdown(1800)  \n",
    "        end = start + timedelta(seconds=1800)\n",
    "        print(end)\n",
    "        delta = (end-start)/timedelta(minutes=1)\n",
    "        start_string = start.strftime('%Y-%m-%d %H:%M')\n",
    "        end_string = end.strftime('%Y-%m-%d %H:%M')\n",
    "        date = start.strftime('%d/%m/%y %H:00')\n",
    "        with open('timedata.csv', 'a') as file:\n",
    "            writer = csv.DictWriter(file, ['','date','time','start', 'end'])\n",
    "            writer.writerow({'date':date, 'time':delta, 'start':start_string, 'end':end_string})           \n",
    "        \n",
    "    def countdown(self, timeInSeconds):\n",
    "        mins,secs = divmod(timeInSeconds, 60)\n",
    "        timeformat = \"{0:02d}:{1:02d}\".format(mins, secs)\n",
    "        app.labelvariable.set(timeformat)\n",
    "        if timeInSeconds > 0:\n",
    "            self._alarm_id = self.master.after(1000, self.countdown, timeInSeconds-1)\n",
    "        else:\n",
    "            app.labelvariable.set('Done')\n",
    "            app.bell() \n",
    "\n",
    "    def bell(self): #надо поменять на другой звук\n",
    "        root.bell()\n",
    "        \n",
    "if __name__ == '__main__':\n",
    "    root = Tk()\n",
    "    root.title(\"Timer\")\n",
    "    app = Application(root)\n",
    "    root.mainloop()"
   ]
  },
  {
   "cell_type": "code",
   "execution_count": 11,
   "id": "c1e75686",
   "metadata": {},
   "outputs": [
    {
     "data": {
      "text/html": [
       "<div>\n",
       "<style scoped>\n",
       "    .dataframe tbody tr th:only-of-type {\n",
       "        vertical-align: middle;\n",
       "    }\n",
       "\n",
       "    .dataframe tbody tr th {\n",
       "        vertical-align: top;\n",
       "    }\n",
       "\n",
       "    .dataframe thead th {\n",
       "        text-align: right;\n",
       "    }\n",
       "</style>\n",
       "<table border=\"1\" class=\"dataframe\">\n",
       "  <thead>\n",
       "    <tr style=\"text-align: right;\">\n",
       "      <th></th>\n",
       "      <th>date</th>\n",
       "      <th>time</th>\n",
       "      <th>start</th>\n",
       "      <th>end</th>\n",
       "    </tr>\n",
       "  </thead>\n",
       "  <tbody>\n",
       "    <tr>\n",
       "      <th>0.0</th>\n",
       "      <td>06/12/22 12:00</td>\n",
       "      <td>10.00</td>\n",
       "      <td>2022-12-06 12:00</td>\n",
       "      <td>2022-12-06 12:10</td>\n",
       "    </tr>\n",
       "    <tr>\n",
       "      <th>1.0</th>\n",
       "      <td>06/12/22 15:00</td>\n",
       "      <td>20.00</td>\n",
       "      <td>2022-12-06 15:00</td>\n",
       "      <td>2022-12-06 15:20</td>\n",
       "    </tr>\n",
       "    <tr>\n",
       "      <th>NaN</th>\n",
       "      <td>30/12/22 18:00</td>\n",
       "      <td>1.25</td>\n",
       "      <td>2022-12-30 18:55</td>\n",
       "      <td>2022-12-30 18:57</td>\n",
       "    </tr>\n",
       "    <tr>\n",
       "      <th>NaN</th>\n",
       "      <td>30/12/22 19:00</td>\n",
       "      <td>10.00</td>\n",
       "      <td>2022-12-30 19:00</td>\n",
       "      <td>2022-12-30 19:10</td>\n",
       "    </tr>\n",
       "    <tr>\n",
       "      <th>NaN</th>\n",
       "      <td>30/12/22 19:00</td>\n",
       "      <td>10.00</td>\n",
       "      <td>2022-12-30 19:03</td>\n",
       "      <td>2022-12-30 19:13</td>\n",
       "    </tr>\n",
       "  </tbody>\n",
       "</table>\n",
       "</div>"
      ],
      "text/plain": [
       "               date   time             start               end\n",
       "0.0  06/12/22 12:00  10.00  2022-12-06 12:00  2022-12-06 12:10\n",
       "1.0  06/12/22 15:00  20.00  2022-12-06 15:00  2022-12-06 15:20\n",
       "NaN  30/12/22 18:00   1.25  2022-12-30 18:55  2022-12-30 18:57\n",
       "NaN  30/12/22 19:00  10.00  2022-12-30 19:00  2022-12-30 19:10\n",
       "NaN  30/12/22 19:00  10.00  2022-12-30 19:03  2022-12-30 19:13"
      ]
     },
     "execution_count": 11,
     "metadata": {},
     "output_type": "execute_result"
    }
   ],
   "source": [
    "df = pd.read_csv('timedata.csv')\n",
    "df.iloc[-5:,]"
   ]
  },
  {
   "cell_type": "code",
   "execution_count": null,
   "id": "7c93371a",
   "metadata": {},
   "outputs": [],
   "source": []
  }
 ],
 "metadata": {
  "kernelspec": {
   "display_name": "Python 3",
   "language": "python",
   "name": "python3"
  },
  "language_info": {
   "codemirror_mode": {
    "name": "ipython",
    "version": 3
   },
   "file_extension": ".py",
   "mimetype": "text/x-python",
   "name": "python",
   "nbconvert_exporter": "python",
   "pygments_lexer": "ipython3",
   "version": "3.8.8"
  }
 },
 "nbformat": 4,
 "nbformat_minor": 5
}
